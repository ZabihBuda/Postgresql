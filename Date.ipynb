{
  "nbformat": 4,
  "nbformat_minor": 0,
  "metadata": {
    "colab": {
      "name": "Date",
      "provenance": [],
      "collapsed_sections": []
    },
    "kernelspec": {
      "name": "python3",
      "display_name": "Python 3"
    },
    "language_info": {
      "name": "python"
    }
  },
  "cells": [
    {
      "cell_type": "markdown",
      "source": [
        "# Questions"
      ],
      "metadata": {
        "id": "CdJLx38XyN2v"
      }
    },
    {
      "cell_type": "code",
      "execution_count": null,
      "metadata": {
        "id": "G98wvctixL60"
      },
      "outputs": [],
      "source": [
        "#Produce a timestamp for 1 a.m. on the 31st of August 2012\n",
        "SELECT TIMESTAMP '2012-08-31 01:00:00'\n",
        "\n",
        "#Find the result of subtracting the timestamp '2012-07-30 01:00:00' from the timestamp '2012-08-31 01:00:00'\n",
        "SELECT TIMESTAMP '2012-08-31 01:00:00' - TIMESTAMP '2012-07-30 01:00:00' AS interval\n",
        "\n",
        "#Produce a list of all the dates in October 2012. They can be output as a timestamp (with time set to midnight) or a date.\n",
        "SELECT GENERATE_SERIES(TIMESTAMP '2012-10-01', TIMESTAMP '2012-10-31', INTERVAL '1 day') AS timestamp\n",
        "\n",
        "#Get the day of the month from the timestamp '2012-08-31' as an integer.\n",
        "SELECT EXTRACT(DAY FROM TIMESTAMP '2012-08-31') AS date_part\n",
        "\n",
        "#Work out the number of seconds between the timestamps '2012-08-31 01:00:00' and '2012-09-02 00:00:00'\n",
        "SELECT EXTRACT(EPOCH FROM (TIMESTAMP '2012-09-02 00:00:00' - '2012-08-31 01:00:00')) AS seconds\n",
        "\n",
        "#For each month of the year in 2012, output the number of days in that month. Format the output \n",
        "#as an integer column containing the month of the year, and a second column containing an interval data type.\n",
        "SELECT EXTRACT(month FROM cal.month) AS month,\n",
        "\t(cal.month + interval '1 month') - cal.month AS length\n",
        "FROM (SELECT GENERATE_SERIES(TIMESTAMP '2012-01-01', TIMESTAMP '2012-12-01', INTERVAL '1 month') AS month) cal\n",
        "ORDER BY month\n",
        "\n",
        "#For any given timestamp, work out the number of days remaining in the month. The current day should count as a \n",
        "#whole day, regardless of the time. Use '2012-02-11 01:00:00' as an example timestamp for the purposes of making\n",
        "# the answer. Format the output as a single interval value.\n",
        "SELECT (DATE_TRUNC('month', ts.testts) + INTERVAL '1 month') -\n",
        "\tDATE_TRUNC('day', ts.testts) AS remaining\n",
        "FROM (SELECT TIMESTAMP '2012-02-11 01:00:00' AS testts) ts\n",
        "\n",
        "#Return a list of the start and end time of the last 10 bookings (ordered by the time at which they end, \n",
        "#followed by the time at which they start) in the system.\n",
        "SELECT starttime, starttime + slots*(interval '30 minutes') endtime\n",
        "FROM cd.bookings\n",
        "ORDER BY endtime DESC, starttime DESC\n",
        "LIMIT 10\n",
        "\n",
        "#Return a count of bookings for each month, sorted by month\n",
        "SELECT DATE_TRUNC('month', starttime) AS month, count(*)\n",
        "FROM cd.bookings\n",
        "GROUP BY month\n",
        "ORDER BY month\n",
        "\n",
        "#Work out the utilisation percentage for each facility by month, sorted by name and month, rounded \n",
        "#to 1 decimal place. Opening time is 8am, closing time is 8.30pm. You can treat every month as a \n",
        "#full month, regardless of if there were some dates the club was not open.\n",
        "\n",
        "select name, month, \n",
        "\tround((100*slots)/\n",
        "\t\tcast(\n",
        "\t\t\t25*(cast((month + interval '1 month') as date)\n",
        "\t\t\t- cast (month as date)) as numeric),1) as utilisation\n",
        "\tfrom  (\n",
        "\t\tselect facs.name as name, date_trunc('month', starttime) as month, sum(slots) as slots\n",
        "\t\t\tfrom cd.bookings bks\n",
        "\t\t\tinner join cd.facilities facs\n",
        "\t\t\t\ton bks.facid = facs.facid\n",
        "\t\t\tgroup by facs.facid, month\n",
        "\t) as inn\n",
        "order by name, month \n"
      ]
    }
  ]
}