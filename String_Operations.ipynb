{
  "nbformat": 4,
  "nbformat_minor": 0,
  "metadata": {
    "colab": {
      "name": "String Operations",
      "provenance": [],
      "collapsed_sections": []
    },
    "kernelspec": {
      "name": "python3",
      "display_name": "Python 3"
    },
    "language_info": {
      "name": "python"
    }
  },
  "cells": [
    {
      "cell_type": "markdown",
      "source": [
        "# Questions"
      ],
      "metadata": {
        "id": "2mSLL95WoT0r"
      }
    },
    {
      "cell_type": "code",
      "execution_count": null,
      "metadata": {
        "id": "t9cTFfkuoP1X"
      },
      "outputs": [],
      "source": [
        "# Output the names of all members, formatted as 'Surname, Firstname'\n",
        "\n",
        "SELECT surname || ', '|| firstname AS name FROM cd.members\n",
        "\n",
        "# Find all facilities whose name begins with 'Tennis'. Retrieve all columns.\n",
        "SELECT * FROM cd.facilities\n",
        "WHERE name LIKE 'Tennis%'\n",
        "\n",
        "#Perform a case-insensitive search to find all facilities whose name begins with 'tennis'. Retrieve all columns.\n",
        "select * from cd.facilities where upper(name) like 'TENNIS%';  \n",
        "\n",
        "#You've noticed that the club's member table has telephone numbers with very inconsistent \n",
        "#formatting. You'd like to find all the telephone numbers that contain parentheses, returning \n",
        "#the member ID and telephone number sorted by member ID.\n",
        "\n",
        "SELECT memid, telephone\n",
        "FROM cd.members\n",
        "WHERE telephone ~ '[()]'\n",
        "\n",
        "select memid, telephone from cd.members where telephone similar to '%[()]%';\n",
        "\n",
        "#The zip codes in our example dataset have had leading zeroes removed from them by virtue of being stored as a \n",
        "#numeric type. Retrieve all zip codes from the members table, padding any zip codes less than 5 characters \n",
        "#long with leading zeroes. Order by the new zip code.\n",
        "SELECT lpad(CAST(zipcode AS CHAR(5)), 5, '0') zip\n",
        "FROM cd.members\n",
        "ORDER BY zip\n",
        "\n",
        "#You'd like to produce a count of how many members you have whose surname starts with each letter of the alphabet. \n",
        "#Sort by the letter, and don't worry about printing out a letter if the count is 0.\n",
        "SELECT SUBSTR (mems.surname,1,1) AS letter, COUNT(*) AS count\n",
        "FROM cd.members mems\n",
        "GROUP BY letter\n",
        "ORDER BY letter\n",
        "\n",
        "#The telephone numbers in the database are very inconsistently formatted. You'd like to print a list of member ids \n",
        "#and numbers that have had '-','(',')', and ' ' characters removed. Order by member id.\n",
        "SELECT memid, TRANSLATE(telephone, '-() ', '') AS telephone\n",
        "FROM cd.members\n",
        "ORDER BY memid\n",
        "\n",
        "select memid, regexp_replace(telephone, '[^0-9]', '', 'g') as telephone\n",
        "from cd.members\n",
        "order by memid;\n",
        "\n"
      ]
    }
  ]
}